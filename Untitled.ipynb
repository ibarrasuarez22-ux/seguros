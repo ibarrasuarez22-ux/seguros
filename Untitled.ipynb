{
 "cells": [
  {
   "cell_type": "code",
   "execution_count": 1,
   "id": "ecb89e82-b699-4e1c-8832-1a380190e1fc",
   "metadata": {},
   "outputs": [
    {
     "name": "stdout",
     "output_type": "stream",
     "text": [
      "    ID_Cliente  Num_Polizas      Nombre_Empresa Tipo_Negocio\n",
      "43        1044            1   Farmacia Cuidarte     Farmacia\n",
      "47        1048            1     Panadería Aroma    Panadería\n",
      "50        1051            1           SaludCare     Farmacia\n",
      "54        1055            1        Tienda Veloz     Comercio\n",
      "58        1059            1    Farmacia Natural     Farmacia\n",
      "63        1064            1      Farmacia Amiga     Farmacia\n",
      "67        1068            1      Panadería Vida    Panadería\n",
      "70        1071            1           SaludNova     Farmacia\n",
      "74        1075            1       Tienda Activa     Comercio\n",
      "78        1079            1       Farmacia Plus     Farmacia\n",
      "83        1084            1   Farmacia Estrella     Farmacia\n",
      "87        1088            1  Panadería Estrella    Panadería\n",
      "90        1091            1           SaludStar     Farmacia\n",
      "94        1095            1         Tienda Nova     Comercio\n",
      "98        1099            1       Farmacia Nova     Farmacia\n"
     ]
    }
   ],
   "source": [
    "import pandas as pd\n",
    "empresas = pd.read_csv(r\"C:\\Users\\ibarr\\Documents\\EMPRESAS_NUEVO.csv\", encoding='utf-8-sig')\n",
    "polizas = pd.read_csv(r\"C:\\Users\\ibarr\\Documents\\POLIZAS_NUEVO.csv\", encoding='utf-8-sig')\n",
    "client_policies = polizas.groupby(\"ID_Cliente\")[\"ID_Seguro\"].count().reset_index()\n",
    "client_policies = client_policies.merge(empresas[[\"ID_Cliente\", \"Nombre_Empresa\", \"Tipo_Negocio\"]], on=\"ID_Cliente\", how=\"left\")\n",
    "client_policies = client_policies.rename(columns={\"ID_Seguro\": \"Num_Polizas\"})\n",
    "print(client_policies[client_policies[\"Num_Polizas\"] < 2])\n"
   ]
  },
  {
   "cell_type": "code",
   "execution_count": 2,
   "id": "34bbbed8-7c3c-4cf0-a031-aad9273b4f39",
   "metadata": {},
   "outputs": [
    {
     "ename": "SyntaxError",
     "evalue": "leading zeros in decimal integer literals are not permitted; use an 0o prefix for octal integers (3800695987.py, line 1)",
     "output_type": "error",
     "traceback": [
      "  \u001b[36mCell\u001b[39m\u001b[36m \u001b[39m\u001b[32mIn[2]\u001b[39m\u001b[32m, line 1\u001b[39m\n\u001b[31m    \u001b[39m\u001b[31m02b4547d-b3a5-4a90-add6-d0658b6dd3ff\u001b[39m\n    ^\n\u001b[31mSyntaxError\u001b[39m\u001b[31m:\u001b[39m leading zeros in decimal integer literals are not permitted; use an 0o prefix for octal integers\n"
     ]
    }
   ],
   "source": [
    "02b4547d-b3a5-4a90-add6-d0658b6dd3ff"
   ]
  },
  {
   "cell_type": "code",
   "execution_count": null,
   "id": "00319c7c-2352-47ef-a24c-bea73bbabcd8",
   "metadata": {},
   "outputs": [],
   "source": []
  }
 ],
 "metadata": {
  "kernelspec": {
   "display_name": "Python 3 (ipykernel)",
   "language": "python",
   "name": "python3"
  },
  "language_info": {
   "codemirror_mode": {
    "name": "ipython",
    "version": 3
   },
   "file_extension": ".py",
   "mimetype": "text/x-python",
   "name": "python",
   "nbconvert_exporter": "python",
   "pygments_lexer": "ipython3",
   "version": "3.13.5"
  }
 },
 "nbformat": 4,
 "nbformat_minor": 5
}
