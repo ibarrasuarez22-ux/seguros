{
 "cells": [
  {
   "cell_type": "code",
   "execution_count": 1,
   "id": "930e4d67-52be-4563-bc1f-538afa7bd0f8",
   "metadata": {},
   "outputs": [
    {
     "name": "stdout",
     "output_type": "stream",
     "text": [
      "✅ Archivo 'RECLAMACIONES_AMPLIADO.csv' creado con éxito.\n"
     ]
    }
   ],
   "source": [
    "import pandas as pd\n",
    "import random\n",
    "from datetime import datetime, timedelta\n",
    "\n",
    "# Registros originales\n",
    "originales = [\n",
    "    [3001, 2001, 1001, '10/05/2024', 'Daño por inundación', 25000, 'Aprobada'],\n",
    "    [3002, 2003, 1002, '15/07/2024', 'Robo de equipo', 15000.5, 'En Proceso'],\n",
    "    [3003, 2004, 1003, '22/03/2024', 'Incidente laboral', 30000.75, 'Aprobada'],\n",
    "    [3004, 2005, 1004, '10/04/2024', 'Incendio parcial', 10000.25, 'Rechazada'],\n",
    "    [3005, 2002, 1001, '05/06/2024', 'Daño estructural', 40000, 'Aprobada'],\n",
    "]\n",
    "\n",
    "# Parámetros para generar nuevos datos\n",
    "descripciones = [\n",
    "    'Robo de vehículo', 'Daño por granizo', 'Accidente vial', 'Daño por terremoto',\n",
    "    'Incendio total', 'Pérdida total por choque', 'Colisión múltiple', 'Falla mecánica grave',\n",
    "    'Inundación severa', 'Robo de autopartes', 'Explosión interna', 'Daños por manifestación',\n",
    "    'Accidente en obra', 'Vandalismo urbano', 'Hurto domiciliario', 'Derrumbe estructural'\n",
    "]\n",
    "estados = ['Aprobada', 'En Proceso', 'Rechazada']\n",
    "\n",
    "def generar_fecha():\n",
    "    inicio = datetime(2023, 1, 1)\n",
    "    fin = datetime(2025, 7, 1)\n",
    "    return (inicio + timedelta(days=random.randint(0, (fin - inicio).days))).strftime('%d/%m/%Y')\n",
    "\n",
    "# Generación de nuevas reclamaciones\n",
    "nuevas = []\n",
    "for i in range(75):\n",
    "    id_reclamacion = 3006 + i\n",
    "    id_seguro = random.randint(2001, 2050)\n",
    "    id_cliente = random.randint(1001, 1100)\n",
    "    fecha = generar_fecha()\n",
    "    descripcion = random.choice(descripciones)\n",
    "    monto = round(random.uniform(8000, 60000), 2)\n",
    "    estado = random.choice(estados)\n",
    "    nuevas.append([id_reclamacion, id_seguro, id_cliente, fecha, descripcion, monto, estado])\n",
    "\n",
    "# Unir y guardar\n",
    "todos = originales + nuevas\n",
    "df = pd.DataFrame(todos, columns=[\n",
    "    'ID_Reclamacion', 'ID_Seguro', 'ID_Cliente', 'Fecha_Reclamacion',\n",
    "    'Descripcion_Reclamacion', 'Monto_Reclamacion', 'Estado_Reclamacion'\n",
    "])\n",
    "df.to_csv('RECLAMACIONES_AMPLIADO.csv', index=False, encoding='utf-8-sig')\n",
    "\n",
    "print(\"✅ Archivo 'RECLAMACIONES_AMPLIADO.csv' creado con éxito.\")"
   ]
  },
  {
   "cell_type": "code",
   "execution_count": 2,
   "id": "2987cb8e-6e46-43fd-ba28-5ba4b13d9724",
   "metadata": {},
   "outputs": [
    {
     "ename": "OSError",
     "evalue": "'seaborn' is not a valid package style, path of style file, URL of style file, or library style name (library styles are listed in `style.available`)",
     "output_type": "error",
     "traceback": [
      "\u001b[31m---------------------------------------------------------------------------\u001b[39m",
      "\u001b[31mFileNotFoundError\u001b[39m                         Traceback (most recent call last)",
      "\u001b[36mFile \u001b[39m\u001b[32m~\\AppData\\Local\\Programs\\Python\\Python313\\Lib\\site-packages\\matplotlib\\style\\core.py:129\u001b[39m, in \u001b[36muse\u001b[39m\u001b[34m(style)\u001b[39m\n\u001b[32m    128\u001b[39m \u001b[38;5;28;01mtry\u001b[39;00m:\n\u001b[32m--> \u001b[39m\u001b[32m129\u001b[39m     style = \u001b[43m_rc_params_in_file\u001b[49m\u001b[43m(\u001b[49m\u001b[43mstyle\u001b[49m\u001b[43m)\u001b[49m\n\u001b[32m    130\u001b[39m \u001b[38;5;28;01mexcept\u001b[39;00m \u001b[38;5;167;01mOSError\u001b[39;00m \u001b[38;5;28;01mas\u001b[39;00m err:\n",
      "\u001b[36mFile \u001b[39m\u001b[32m~\\AppData\\Local\\Programs\\Python\\Python313\\Lib\\site-packages\\matplotlib\\__init__.py:903\u001b[39m, in \u001b[36m_rc_params_in_file\u001b[39m\u001b[34m(fname, transform, fail_on_error)\u001b[39m\n\u001b[32m    902\u001b[39m rc_temp = {}\n\u001b[32m--> \u001b[39m\u001b[32m903\u001b[39m \u001b[43m\u001b[49m\u001b[38;5;28;43;01mwith\u001b[39;49;00m\u001b[43m \u001b[49m\u001b[43m_open_file_or_url\u001b[49m\u001b[43m(\u001b[49m\u001b[43mfname\u001b[49m\u001b[43m)\u001b[49m\u001b[43m \u001b[49m\u001b[38;5;28;43;01mas\u001b[39;49;00m\u001b[43m \u001b[49m\u001b[43mfd\u001b[49m\u001b[43m:\u001b[49m\n\u001b[32m    904\u001b[39m \u001b[43m    \u001b[49m\u001b[38;5;28;43;01mtry\u001b[39;49;00m\u001b[43m:\u001b[49m\n",
      "\u001b[36mFile \u001b[39m\u001b[32m~\\AppData\\Local\\Programs\\Python\\Python313\\Lib\\contextlib.py:141\u001b[39m, in \u001b[36m_GeneratorContextManager.__enter__\u001b[39m\u001b[34m(self)\u001b[39m\n\u001b[32m    140\u001b[39m \u001b[38;5;28;01mtry\u001b[39;00m:\n\u001b[32m--> \u001b[39m\u001b[32m141\u001b[39m     \u001b[38;5;28;01mreturn\u001b[39;00m \u001b[38;5;28;43mnext\u001b[39;49m\u001b[43m(\u001b[49m\u001b[38;5;28;43mself\u001b[39;49m\u001b[43m.\u001b[49m\u001b[43mgen\u001b[49m\u001b[43m)\u001b[49m\n\u001b[32m    142\u001b[39m \u001b[38;5;28;01mexcept\u001b[39;00m \u001b[38;5;167;01mStopIteration\u001b[39;00m:\n",
      "\u001b[36mFile \u001b[39m\u001b[32m~\\AppData\\Local\\Programs\\Python\\Python313\\Lib\\site-packages\\matplotlib\\__init__.py:880\u001b[39m, in \u001b[36m_open_file_or_url\u001b[39m\u001b[34m(fname)\u001b[39m\n\u001b[32m    879\u001b[39m fname = os.path.expanduser(fname)\n\u001b[32m--> \u001b[39m\u001b[32m880\u001b[39m \u001b[38;5;28;01mwith\u001b[39;00m \u001b[38;5;28;43mopen\u001b[39;49m\u001b[43m(\u001b[49m\u001b[43mfname\u001b[49m\u001b[43m,\u001b[49m\u001b[43m \u001b[49m\u001b[43mencoding\u001b[49m\u001b[43m=\u001b[49m\u001b[33;43m'\u001b[39;49m\u001b[33;43mutf-8\u001b[39;49m\u001b[33;43m'\u001b[39;49m\u001b[43m)\u001b[49m \u001b[38;5;28;01mas\u001b[39;00m f:\n\u001b[32m    881\u001b[39m     \u001b[38;5;28;01myield\u001b[39;00m f\n",
      "\u001b[31mFileNotFoundError\u001b[39m: [Errno 2] No such file or directory: 'seaborn'",
      "\nThe above exception was the direct cause of the following exception:\n",
      "\u001b[31mOSError\u001b[39m                                   Traceback (most recent call last)",
      "\u001b[36mCell\u001b[39m\u001b[36m \u001b[39m\u001b[32mIn[2]\u001b[39m\u001b[32m, line 7\u001b[39m\n\u001b[32m      4\u001b[39m \u001b[38;5;28;01mfrom\u001b[39;00m\u001b[38;5;250m \u001b[39m\u001b[34;01mdatetime\u001b[39;00m\u001b[38;5;250m \u001b[39m\u001b[38;5;28;01mimport\u001b[39;00m datetime\n\u001b[32m      6\u001b[39m \u001b[38;5;66;03m# Configuración visual\u001b[39;00m\n\u001b[32m----> \u001b[39m\u001b[32m7\u001b[39m \u001b[43mplt\u001b[49m\u001b[43m.\u001b[49m\u001b[43mstyle\u001b[49m\u001b[43m.\u001b[49m\u001b[43muse\u001b[49m\u001b[43m(\u001b[49m\u001b[33;43m'\u001b[39;49m\u001b[33;43mseaborn\u001b[39;49m\u001b[33;43m'\u001b[39;49m\u001b[43m)\u001b[49m\n\u001b[32m      8\u001b[39m sns.set_theme()\n\u001b[32m     10\u001b[39m \u001b[38;5;66;03m# Cargar archivos\u001b[39;00m\n",
      "\u001b[36mFile \u001b[39m\u001b[32m~\\AppData\\Local\\Programs\\Python\\Python313\\Lib\\site-packages\\matplotlib\\style\\core.py:131\u001b[39m, in \u001b[36muse\u001b[39m\u001b[34m(style)\u001b[39m\n\u001b[32m    129\u001b[39m         style = _rc_params_in_file(style)\n\u001b[32m    130\u001b[39m     \u001b[38;5;28;01mexcept\u001b[39;00m \u001b[38;5;167;01mOSError\u001b[39;00m \u001b[38;5;28;01mas\u001b[39;00m err:\n\u001b[32m--> \u001b[39m\u001b[32m131\u001b[39m         \u001b[38;5;28;01mraise\u001b[39;00m \u001b[38;5;167;01mOSError\u001b[39;00m(\n\u001b[32m    132\u001b[39m             \u001b[33mf\u001b[39m\u001b[33m\"\u001b[39m\u001b[38;5;132;01m{\u001b[39;00mstyle\u001b[38;5;132;01m!r}\u001b[39;00m\u001b[33m is not a valid package style, path of style \u001b[39m\u001b[33m\"\u001b[39m\n\u001b[32m    133\u001b[39m             \u001b[33mf\u001b[39m\u001b[33m\"\u001b[39m\u001b[33mfile, URL of style file, or library style name (library \u001b[39m\u001b[33m\"\u001b[39m\n\u001b[32m    134\u001b[39m             \u001b[33mf\u001b[39m\u001b[33m\"\u001b[39m\u001b[33mstyles are listed in `style.available`)\u001b[39m\u001b[33m\"\u001b[39m) \u001b[38;5;28;01mfrom\u001b[39;00m\u001b[38;5;250m \u001b[39m\u001b[34;01merr\u001b[39;00m\n\u001b[32m    135\u001b[39m filtered = {}\n\u001b[32m    136\u001b[39m \u001b[38;5;28;01mfor\u001b[39;00m k \u001b[38;5;129;01min\u001b[39;00m style:  \u001b[38;5;66;03m# don't trigger RcParams.__getitem__('backend')\u001b[39;00m\n",
      "\u001b[31mOSError\u001b[39m: 'seaborn' is not a valid package style, path of style file, URL of style file, or library style name (library styles are listed in `style.available`)"
     ]
    }
   ],
   "source": [
    "import pandas as pd\n",
    "import matplotlib.pyplot as plt\n",
    "import seaborn as sns\n",
    "from datetime import datetime\n",
    "\n",
    "# Configuración visual\n",
    "plt.style.use('seaborn')\n",
    "sns.set_theme()\n",
    "\n",
    "# Cargar archivos\n",
    "polizas = pd.read_csv('POLIZAS_NUEVO.csv', parse_dates=['Fecha_Inicio_Poliza', 'Fecha_Fin_Poliza'])\n",
    "reclamaciones = pd.read_csv('RECLAMACIONES_AMPLIADO.csv', parse_dates=['Fecha_Reclamacion'])\n",
    "empresas = pd.read_csv('EMPRESAS_NUEVO.csv')  # Asumimos que tiene ID_Cliente + ubicación"
   ]
  },
  {
   "cell_type": "code",
   "execution_count": null,
   "id": "258500ab-2d57-48b9-82c2-d62b5e3562d8",
   "metadata": {},
   "outputs": [],
   "source": []
  }
 ],
 "metadata": {
  "kernelspec": {
   "display_name": "Python 3 (ipykernel)",
   "language": "python",
   "name": "python3"
  },
  "language_info": {
   "codemirror_mode": {
    "name": "ipython",
    "version": 3
   },
   "file_extension": ".py",
   "mimetype": "text/x-python",
   "name": "python",
   "nbconvert_exporter": "python",
   "pygments_lexer": "ipython3",
   "version": "3.13.5"
  }
 },
 "nbformat": 4,
 "nbformat_minor": 5
}
